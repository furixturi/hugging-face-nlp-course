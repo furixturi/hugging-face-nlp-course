{
 "cells": [
  {
   "attachments": {},
   "cell_type": "markdown",
   "metadata": {},
   "source": [
    "# Transformer Models\n"
   ]
  },
  {
   "attachments": {},
   "cell_type": "markdown",
   "metadata": {},
   "source": [
    "## Install transformers\n"
   ]
  },
  {
   "attachments": {},
   "cell_type": "markdown",
   "metadata": {},
   "source": [
    "First we need a ML framework, either Tensorflow >= 2.0 or PyTorch. To install PyTorch with pip:\n",
    "\n",
    "```bash\n",
    "$ pip install torch torchvision torchaudio\n",
    "```\n"
   ]
  },
  {
   "attachments": {},
   "cell_type": "markdown",
   "metadata": {},
   "source": [
    "Then we install the Transformers. To install a light version:\n",
    "\n",
    "```\n",
    "$ pip install transformers\n",
    "```\n"
   ]
  },
  {
   "attachments": {},
   "cell_type": "markdown",
   "metadata": {},
   "source": [
    "To install the development version:\n",
    "\n",
    "```\n",
    "$ pip install \"transformers[sentencepiece]\"\n",
    "```\n"
   ]
  },
  {
   "attachments": {},
   "cell_type": "markdown",
   "metadata": {},
   "source": [
    "## Working with pipelines\n"
   ]
  },
  {
   "attachments": {},
   "cell_type": "markdown",
   "metadata": {},
   "source": [
    "The most basic object in the Transformers library is the `pipeline()` function. It connects a model with its necessary processing anc postprocessing steps, allowing for direct input and output.\n",
    "\n",
    "If no model is specified, `pipelines` will select a pretrained model that has been fine-tuned for the task (in English). Some available pipelines are:\n",
    "\n",
    "- feature-extraction (get the vector representation of a text)\n",
    "- fill-mask\n",
    "- ner(named entity recognition)\n",
    "- question-answering\n",
    "- sentiment-analysis\n",
    "- summarization\n",
    "- text-generation\n",
    "- translation\n",
    "- zero-shot-classification\n"
   ]
  },
  {
   "cell_type": "code",
   "execution_count": 1,
   "metadata": {},
   "outputs": [
    {
     "name": "stderr",
     "output_type": "stream",
     "text": [
      "/Users/xiaolishen/projects/huggingface/nlp-course/.env/lib/python3.9/site-packages/tqdm/auto.py:21: TqdmWarning: IProgress not found. Please update jupyter and ipywidgets. See https://ipywidgets.readthedocs.io/en/stable/user_install.html\n",
      "  from .autonotebook import tqdm as notebook_tqdm\n"
     ]
    }
   ],
   "source": [
    "from transformers import pipeline"
   ]
  },
  {
   "attachments": {},
   "cell_type": "markdown",
   "metadata": {},
   "source": [
    "### Sentiment analysis\n"
   ]
  },
  {
   "cell_type": "code",
   "execution_count": 4,
   "metadata": {},
   "outputs": [
    {
     "name": "stderr",
     "output_type": "stream",
     "text": [
      "No model was supplied, defaulted to distilbert-base-uncased-finetuned-sst-2-english and revision af0f99b (https://huggingface.co/distilbert-base-uncased-finetuned-sst-2-english).\n",
      "Using a pipeline without specifying a model name and revision in production is not recommended.\n"
     ]
    },
    {
     "data": {
      "text/plain": [
       "[{'label': 'POSITIVE', 'score': 0.9998716115951538},\n",
       " {'label': 'NEGATIVE', 'score': 0.9993693232536316}]"
      ]
     },
     "execution_count": 4,
     "metadata": {},
     "output_type": "execute_result"
    }
   ],
   "source": [
    "classifier = pipeline(\"sentiment-analysis\")\n",
    "classifier([\"I'm happy!\", \"Well, then, do what you want, I don't care.\"])"
   ]
  },
  {
   "attachments": {},
   "cell_type": "markdown",
   "metadata": {},
   "source": [
    "### Zero-shot classification\n"
   ]
  },
  {
   "attachments": {},
   "cell_type": "markdown",
   "metadata": {},
   "source": [
    "Use case: classify unlabelled text with labels you provide. This model is called zero-shot because you don't need to fine-tune the model on your data to use it. It returns directly the probability scores for the labels you provide.\n"
   ]
  },
  {
   "cell_type": "code",
   "execution_count": 5,
   "metadata": {},
   "outputs": [
    {
     "name": "stderr",
     "output_type": "stream",
     "text": [
      "No model was supplied, defaulted to facebook/bart-large-mnli and revision c626438 (https://huggingface.co/facebook/bart-large-mnli).\n",
      "Using a pipeline without specifying a model name and revision in production is not recommended.\n",
      "Downloading (…)lve/main/config.json: 1.15kB [00:00, 1.47MB/s]\n",
      "Downloading model.safetensors: 100%|█████████████████████████████████████████████████████████████████████████| 1.63G/1.63G [01:35<00:00, 17.0MB/s]\n",
      "Downloading (…)okenizer_config.json: 100%|█████████████████████████████████████████████████████████████████████| 26.0/26.0 [00:00<00:00, 13.0kB/s]\n",
      "Downloading (…)olve/main/vocab.json: 899kB [00:00, 1.80MB/s]\n",
      "Downloading (…)olve/main/merges.txt: 456kB [00:00, 11.0MB/s]\n",
      "Downloading (…)/main/tokenizer.json: 1.36MB [00:00, 2.08MB/s]\n"
     ]
    },
    {
     "data": {
      "text/plain": [
       "{'sequence': 'I am a cat is a satirical novel written in 1905-1906 by Natsume Soseki about Japanese society during the Meiji period (1868-1912).',\n",
       " 'labels': ['literature', 'history', 'art', 'technology', 'business'],\n",
       " 'scores': [0.9727845191955566,\n",
       "  0.015122069977223873,\n",
       "  0.009569740854203701,\n",
       "  0.0014187750639393926,\n",
       "  0.0011049271561205387]}"
      ]
     },
     "execution_count": 5,
     "metadata": {},
     "output_type": "execute_result"
    }
   ],
   "source": [
    "classifier = pipeline(\"zero-shot-classification\")\n",
    "classifier(\n",
    "    \"I am a cat is a satirical novel written in 1905-1906 by Natsume Soseki about Japanese society during the Meiji period (1868-1912).\",\n",
    "    candidate_labels=[\"literature\", \"art\", \"technology\", \"history\", \"business\"],\n",
    ")"
   ]
  },
  {
   "attachments": {},
   "cell_type": "markdown",
   "metadata": {},
   "source": [
    "### Text generation\n"
   ]
  },
  {
   "attachments": {},
   "cell_type": "markdown",
   "metadata": {},
   "source": [
    "Now let's try text generation and this time we specify a model.\n"
   ]
  },
  {
   "cell_type": "code",
   "execution_count": 7,
   "metadata": {},
   "outputs": [
    {
     "name": "stderr",
     "output_type": "stream",
     "text": [
      "Setting `pad_token_id` to `eos_token_id`:50256 for open-end generation.\n"
     ]
    },
    {
     "data": {
      "text/plain": [
       "[{'generated_text': \"The weather is so nice, let's be really clear about the weather... The weather is very sunny. It's rainy around us and we have nothing\"},\n",
       " {'generated_text': \"The weather is so nice, let's get some water. A lot of cold weather is not bad.\\n\\nSome days during the summer, winter\"}]"
      ]
     },
     "execution_count": 7,
     "metadata": {},
     "output_type": "execute_result"
    }
   ],
   "source": [
    "generator = pipeline(\"text-generation\", model=\"distilgpt2\")\n",
    "generator(\"The weather is so nice, let's\", max_length=30, num_return_sequences=2)"
   ]
  },
  {
   "cell_type": "code",
   "execution_count": 4,
   "metadata": {},
   "outputs": [
    {
     "name": "stderr",
     "output_type": "stream",
     "text": [
      "Setting `pad_token_id` to `eos_token_id`:0 for open-end generation.\n"
     ]
    },
    {
     "data": {
      "text/plain": [
       "[{'generated_text': '天気がいいから散歩がてら、散歩がてら、お散歩がてら、お散歩がてら'}]"
      ]
     },
     "execution_count": 4,
     "metadata": {},
     "output_type": "execute_result"
    }
   ],
   "source": [
    "generator = pipeline(\"text-generation\", model=\"cyberagent/open-calm-small\")\n",
    "generator(\"天気がいいから散歩\")"
   ]
  },
  {
   "cell_type": "code",
   "execution_count": 8,
   "metadata": {},
   "outputs": [
    {
     "name": "stderr",
     "output_type": "stream",
     "text": [
      "Downloading (…)lve/main/config.json: 100%|████████████████████████████████████████████████████████████████████████| 799/799 [00:00<00:00, 256kB/s]\n",
      "Downloading model.safetensors: 100%|█████████████████████████████████████████████████████████████████████████| 1.37G/1.37G [00:24<00:00, 55.6MB/s]\n",
      "Downloading (…)okenizer_config.json: 100%|███████████████████████████████████████████████████████████████████████| 282/282 [00:00<00:00, 75.6kB/s]\n",
      "Downloading spiece.model: 100%|████████████████████████████████████████████████████████████████████████████████| 806k/806k [00:00<00:00, 45.3MB/s]\n",
      "Downloading (…)cial_tokens_map.json: 100%|████████████████████████████████████████████████████████████████████████| 153/153 [00:00<00:00, 118kB/s]\n",
      "Setting `pad_token_id` to `eos_token_id`:2 for open-end generation.\n",
      "/Users/xiaolishen/projects/huggingface/nlp-course/.env/lib/python3.9/site-packages/transformers/generation/utils.py:1353: UserWarning: Using `max_length`'s default (50) to control the generation length. This behaviour is deprecated and will be removed from the config in v5 of Transformers -- we recommend using `max_new_tokens` to control the maximum length of the generation.\n",
      "  warnings.warn(\n"
     ]
    },
    {
     "data": {
      "text/plain": [
       "[{'generated_text': '天気がいいから散歩に行こう」と言ってから家を出て、散歩に行く途中です。いつものように家を出るが、「また寒くなったので家の中へ・・・」というようなやり取りが何度か続いた。玄関の靴が、'}]"
      ]
     },
     "execution_count": 8,
     "metadata": {},
     "output_type": "execute_result"
    }
   ],
   "source": [
    "generator = pipeline(\"text-generation\", model=\"rinna/japanese-gpt2-medium\")\n",
    "generator(\"天気がいいから散歩\")"
   ]
  },
  {
   "attachments": {},
   "cell_type": "markdown",
   "metadata": {},
   "source": [
    "### Mask filling\n",
    "\n",
    "Fill in the blanks in a given text. `<mask>` is the mask token (which can be different for different models) and `top_k=2` controls that we want the top two possibilities to be displayed.\n"
   ]
  },
  {
   "cell_type": "code",
   "execution_count": 10,
   "metadata": {},
   "outputs": [
    {
     "name": "stderr",
     "output_type": "stream",
     "text": [
      "No model was supplied, defaulted to distilroberta-base and revision ec58a5b (https://huggingface.co/distilroberta-base).\n",
      "Using a pipeline without specifying a model name and revision in production is not recommended.\n"
     ]
    },
    {
     "data": {
      "text/plain": [
       "[{'score': 0.06423681229352951,\n",
       "  'token': 33368,\n",
       "  'token_str': ' Titanic',\n",
       "  'sequence': 'Leonardo DiCaprio first became famous by acting in the movie Titanic as the lead.'},\n",
       " {'score': 0.04545317217707634,\n",
       "  'token': 38688,\n",
       "  'token_str': ' Hercules',\n",
       "  'sequence': 'Leonardo DiCaprio first became famous by acting in the movie Hercules as the lead.'}]"
      ]
     },
     "execution_count": 10,
     "metadata": {},
     "output_type": "execute_result"
    }
   ],
   "source": [
    "unmasker = pipeline(\"fill-mask\")\n",
    "unmasker(\n",
    "    \"Leonardo DiCaprio first became famous by acting in the movie <mask> as the lead.\",\n",
    "    top_k=2,\n",
    ")"
   ]
  },
  {
   "attachments": {},
   "cell_type": "markdown",
   "metadata": {},
   "source": [
    "### Named entity recognition (NER)\n",
    "\n",
    "The model finds which parts of the input text correspond to entities such as persons, locations, organizations. `grouped_entities` tells the model to group together the parts that constitute the same entity (e.g., \"Hugging\" and \"Face\" are grouped as \"Hugging Face\" when recognized as an organization).\n"
   ]
  },
  {
   "cell_type": "code",
   "execution_count": 11,
   "metadata": {},
   "outputs": [
    {
     "name": "stderr",
     "output_type": "stream",
     "text": [
      "No model was supplied, defaulted to dbmdz/bert-large-cased-finetuned-conll03-english and revision f2482bf (https://huggingface.co/dbmdz/bert-large-cased-finetuned-conll03-english).\n",
      "Using a pipeline without specifying a model name and revision in production is not recommended.\n",
      "Downloading (…)lve/main/config.json: 100%|████████████████████████████████████████████████████████████████████████| 998/998 [00:00<00:00, 263kB/s]\n",
      "Downloading pytorch_model.bin: 100%|█████████████████████████████████████████████████████████████████████████| 1.33G/1.33G [00:25<00:00, 52.5MB/s]\n",
      "Downloading (…)okenizer_config.json: 100%|█████████████████████████████████████████████████████████████████████| 60.0/60.0 [00:00<00:00, 11.8kB/s]\n",
      "Downloading (…)solve/main/vocab.txt: 213kB [00:00, 643kB/s] \n",
      "/Users/xiaolishen/projects/huggingface/nlp-course/.env/lib/python3.9/site-packages/transformers/pipelines/token_classification.py:169: UserWarning: `grouped_entities` is deprecated and will be removed in version v5.0.0, defaulted to `aggregation_strategy=\"simple\"` instead.\n",
      "  warnings.warn(\n"
     ]
    },
    {
     "data": {
      "text/plain": [
       "[{'entity_group': 'PER',\n",
       "  'score': 0.90486896,\n",
       "  'word': 'Glamour',\n",
       "  'start': 11,\n",
       "  'end': 18},\n",
       " {'entity_group': 'ORG',\n",
       "  'score': 0.98586994,\n",
       "  'word': 'The Gorgeous Club',\n",
       "  'start': 33,\n",
       "  'end': 50},\n",
       " {'entity_group': 'LOC',\n",
       "  'score': 0.9439347,\n",
       "  'word': 'Ginza',\n",
       "  'start': 54,\n",
       "  'end': 59}]"
      ]
     },
     "execution_count": 11,
     "metadata": {},
     "output_type": "execute_result"
    }
   ],
   "source": [
    "ner = pipeline(\"ner\", grouped_entities=True)\n",
    "ner(\"My name is Glamour and I work at The Gorgeous Club in Ginza\")"
   ]
  },
  {
   "attachments": {},
   "cell_type": "markdown",
   "metadata": {},
   "source": [
    "### Question answering\n",
    "\n",
    "The question-answering pipeline answers questions using information from a given context.\n"
   ]
  },
  {
   "cell_type": "code",
   "execution_count": 14,
   "metadata": {},
   "outputs": [
    {
     "name": "stderr",
     "output_type": "stream",
     "text": [
      "No model was supplied, defaulted to distilbert-base-cased-distilled-squad and revision 626af31 (https://huggingface.co/distilbert-base-cased-distilled-squad).\n",
      "Using a pipeline without specifying a model name and revision in production is not recommended.\n"
     ]
    },
    {
     "data": {
      "text/plain": [
       "{'score': 0.9979042410850525, 'start': 54, 'end': 59, 'answer': 'Ginza'}"
      ]
     },
     "execution_count": 14,
     "metadata": {},
     "output_type": "execute_result"
    }
   ],
   "source": [
    "question_answer = pipeline(\"question-answering\")\n",
    "question_answer(\n",
    "    question=\"In which city do I work?\",\n",
    "    context=\"My name is Glamour and I work at The Gorgeous Club in Ginza\",\n",
    ")"
   ]
  }
 ],
 "metadata": {
  "kernelspec": {
   "display_name": "Python 3 (ipykernel)",
   "language": "python",
   "name": "python3"
  },
  "language_info": {
   "codemirror_mode": {
    "name": "ipython",
    "version": 3
   },
   "file_extension": ".py",
   "mimetype": "text/x-python",
   "name": "python",
   "nbconvert_exporter": "python",
   "pygments_lexer": "ipython3",
   "version": "3.9.12"
  },
  "orig_nbformat": 4
 },
 "nbformat": 4,
 "nbformat_minor": 2
}
